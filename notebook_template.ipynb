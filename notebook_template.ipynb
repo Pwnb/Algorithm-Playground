{
  "cells": [
    {
      "cell_type": "markdown",
      "metadata": {},
      "source": [
        "# <Problem Title>\n",
        "\n",
        "**Link:** <URL>\n\n",
        "**Category:** <arrays / dp / graph / ...>\n\n",
        "**Constraints:** <add key constraints>\n\n",
        "![Problem Image](img/prompt.png)\n"
      ]
    },
    {
      "cell_type": "markdown",
      "metadata": {},
      "source": [
        "## Intuition / Patterns\n",
        "- Key ideas:\n",
        "- Observations:\n",
        "- Potential pitfalls:\n"
      ]
    },
    {
      "cell_type": "markdown",
      "metadata": {},
      "source": [
        "## Approach 1 — Brute Force\n",
        "**Idea:** <explain in your own words>\n\n",
        "**Time:** O(?)  |  **Space:** O(?)\n"
      ]
    },
    {
      "cell_type": "code",
      "metadata": {},
      "execution_count": null,
      "outputs": [],
      "source": [
        "# Code — Approach 1\n",
        "def solve_bruteforce(*args, **kwargs):\n",
        "    pass\n"
      ]
    },
    {
      "cell_type": "markdown",
      "metadata": {},
      "source": [
        "## Approach 2 — Optimized\n",
        "**Idea:** <sliding window / hash map / two pointers / etc.>\n\n",
        "**Time:** O(?)  |  **Space:** O(?)\n"
      ]
    },
    {
      "cell_type": "code",
      "metadata": {},
      "execution_count": null,
      "outputs": [],
      "source": [
        "# Code — Approach 2\n",
        "def solve_optimized(*args, **kwargs):\n",
        "    pass\n"
      ]
    },
    {
      "cell_type": "markdown",
      "metadata": {},
      "source": [
        "## Correctness & Edge Cases\n",
        "- Why does this work?\n",
        "- Edge cases: <empty input, single element, all same, very large>\n"
      ]
    },
    {
      "cell_type": "code",
      "metadata": {},
      "execution_count": null,
      "outputs": [],
      "source": [
        "# Quick Tests\n",
        "def run_tests():\n",
        "    tests = []  # add (input, expected)\n",
        "    for i, (inp, exp) in enumerate(tests, 1):\n",
        "        # res = solve_optimized(*inp)\n",
        "        res = None  # placeholder\n",
        "        print(f\"Test {i}: got={res}, expected={exp}\")\n",
        "\n",
        "run_tests()\n"
      ]
    },
    {
      "cell_type": "markdown",
      "metadata": {},
      "source": [
        "## Notes / Pitfalls\n",
        "- <Record any mistakes or insights for future reference>\n"
      ]
    }
  ],
  "metadata": {
    "kernelspec": {
      "display_name": "Python 3",
      "language": "python",
      "name": "python3"
    },
    "language_info": {
      "name": "python",
      "version": "3.x"
    }
  },
  "nbformat": 4,
  "nbformat_minor": 5
}